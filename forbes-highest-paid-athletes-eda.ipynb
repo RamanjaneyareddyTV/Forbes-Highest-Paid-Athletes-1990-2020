{
 "cells": [
  {
   "cell_type": "code",
   "execution_count": 1,
   "id": "8079fe9e",
   "metadata": {
    "_cell_guid": "b1076dfc-b9ad-4769-8c92-a6c4dae69d19",
    "_uuid": "8f2839f25d086af736a60e9eeb907d3b93b6e0e5",
    "papermill": {
     "duration": 1.065532,
     "end_time": "2021-07-12T04:25:04.068364",
     "exception": false,
     "start_time": "2021-07-12T04:25:03.002832",
     "status": "completed"
    },
    "tags": []
   },
   "outputs": [],
   "source": [
    "import numpy as np # linear algebra\n",
    "import pandas as pd # data processing, CSV file I/O (e.g. pd.read_csv)\n",
    "import matplotlib.pyplot as plt\n",
    "import seaborn as sns\n",
    "plt.style.use('fivethirtyeight')"
   ]
  },
  {
   "cell_type": "code",
   "execution_count": 4,
   "id": "c1420e8e",
   "metadata": {
    "papermill": {
     "duration": 0.074053,
     "end_time": "2021-07-12T04:25:04.168961",
     "exception": false,
     "start_time": "2021-07-12T04:25:04.094908",
     "status": "completed"
    },
    "tags": []
   },
   "outputs": [
    {
     "data": {
      "text/html": [
       "<div>\n",
       "<style scoped>\n",
       "    .dataframe tbody tr th:only-of-type {\n",
       "        vertical-align: middle;\n",
       "    }\n",
       "\n",
       "    .dataframe tbody tr th {\n",
       "        vertical-align: top;\n",
       "    }\n",
       "\n",
       "    .dataframe thead th {\n",
       "        text-align: right;\n",
       "    }\n",
       "</style>\n",
       "<table border=\"1\" class=\"dataframe\">\n",
       "  <thead>\n",
       "    <tr style=\"text-align: right;\">\n",
       "      <th></th>\n",
       "      <th>S.NO</th>\n",
       "      <th>Name</th>\n",
       "      <th>Nationality</th>\n",
       "      <th>Current Rank</th>\n",
       "      <th>Previous Year Rank</th>\n",
       "      <th>Sport</th>\n",
       "      <th>Year</th>\n",
       "      <th>earnings ($ million)</th>\n",
       "    </tr>\n",
       "  </thead>\n",
       "  <tbody>\n",
       "    <tr>\n",
       "      <th>0</th>\n",
       "      <td>1</td>\n",
       "      <td>Mike Tyson</td>\n",
       "      <td>USA</td>\n",
       "      <td>1</td>\n",
       "      <td>NaN</td>\n",
       "      <td>boxing</td>\n",
       "      <td>1990</td>\n",
       "      <td>28.6</td>\n",
       "    </tr>\n",
       "    <tr>\n",
       "      <th>1</th>\n",
       "      <td>2</td>\n",
       "      <td>Buster Douglas</td>\n",
       "      <td>USA</td>\n",
       "      <td>2</td>\n",
       "      <td>NaN</td>\n",
       "      <td>boxing</td>\n",
       "      <td>1990</td>\n",
       "      <td>26.0</td>\n",
       "    </tr>\n",
       "    <tr>\n",
       "      <th>2</th>\n",
       "      <td>3</td>\n",
       "      <td>Sugar Ray Leonard</td>\n",
       "      <td>USA</td>\n",
       "      <td>3</td>\n",
       "      <td>NaN</td>\n",
       "      <td>boxing</td>\n",
       "      <td>1990</td>\n",
       "      <td>13.0</td>\n",
       "    </tr>\n",
       "    <tr>\n",
       "      <th>3</th>\n",
       "      <td>4</td>\n",
       "      <td>Ayrton Senna</td>\n",
       "      <td>Brazil</td>\n",
       "      <td>4</td>\n",
       "      <td>NaN</td>\n",
       "      <td>auto racing</td>\n",
       "      <td>1990</td>\n",
       "      <td>10.0</td>\n",
       "    </tr>\n",
       "    <tr>\n",
       "      <th>4</th>\n",
       "      <td>5</td>\n",
       "      <td>Alain Prost</td>\n",
       "      <td>France</td>\n",
       "      <td>5</td>\n",
       "      <td>NaN</td>\n",
       "      <td>auto racing</td>\n",
       "      <td>1990</td>\n",
       "      <td>9.0</td>\n",
       "    </tr>\n",
       "  </tbody>\n",
       "</table>\n",
       "</div>"
      ],
      "text/plain": [
       "   S.NO               Name Nationality  Current Rank Previous Year Rank  \\\n",
       "0     1         Mike Tyson         USA             1                NaN   \n",
       "1     2     Buster Douglas         USA             2                NaN   \n",
       "2     3  Sugar Ray Leonard         USA             3                NaN   \n",
       "3     4       Ayrton Senna      Brazil             4                NaN   \n",
       "4     5        Alain Prost      France             5                NaN   \n",
       "\n",
       "         Sport  Year  earnings ($ million)  \n",
       "0       boxing  1990                  28.6  \n",
       "1       boxing  1990                  26.0  \n",
       "2       boxing  1990                  13.0  \n",
       "3  auto racing  1990                  10.0  \n",
       "4  auto racing  1990                   9.0  "
      ]
     },
     "execution_count": 4,
     "metadata": {},
     "output_type": "execute_result"
    }
   ],
   "source": [
    "df = pd.read_csv('C:/Users/Raman/Downloads/Compressed/archive_13/Forbes Richest Atheletes (Forbes Richest Athletes 1990-2020).csv')\n",
    "df.head()"
   ]
  },
  {
   "cell_type": "code",
   "execution_count": 5,
   "id": "9455ef90",
   "metadata": {
    "papermill": {
     "duration": 0.034732,
     "end_time": "2021-07-12T04:25:04.230567",
     "exception": false,
     "start_time": "2021-07-12T04:25:04.195835",
     "status": "completed"
    },
    "tags": []
   },
   "outputs": [
    {
     "data": {
      "text/plain": [
       "(301, 8)"
      ]
     },
     "execution_count": 5,
     "metadata": {},
     "output_type": "execute_result"
    }
   ],
   "source": [
    "df.shape"
   ]
  },
  {
   "cell_type": "code",
   "execution_count": 6,
   "id": "f79b2c5a",
   "metadata": {
    "papermill": {
     "duration": 0.036957,
     "end_time": "2021-07-12T04:25:04.294047",
     "exception": false,
     "start_time": "2021-07-12T04:25:04.257090",
     "status": "completed"
    },
    "tags": []
   },
   "outputs": [
    {
     "data": {
      "text/plain": [
       "S.NO                     0\n",
       "Name                     0\n",
       "Nationality              0\n",
       "Current Rank             0\n",
       "Previous Year Rank      24\n",
       "Sport                    0\n",
       "Year                     0\n",
       "earnings ($ million)     0\n",
       "dtype: int64"
      ]
     },
     "execution_count": 6,
     "metadata": {},
     "output_type": "execute_result"
    }
   ],
   "source": [
    "df.isnull().sum()"
   ]
  },
  {
   "cell_type": "code",
   "execution_count": 7,
   "id": "31d391bf",
   "metadata": {
    "papermill": {
     "duration": 0.058583,
     "end_time": "2021-07-12T04:25:04.379570",
     "exception": false,
     "start_time": "2021-07-12T04:25:04.320987",
     "status": "completed"
    },
    "tags": []
   },
   "outputs": [
    {
     "data": {
      "text/html": [
       "<div>\n",
       "<style scoped>\n",
       "    .dataframe tbody tr th:only-of-type {\n",
       "        vertical-align: middle;\n",
       "    }\n",
       "\n",
       "    .dataframe tbody tr th {\n",
       "        vertical-align: top;\n",
       "    }\n",
       "\n",
       "    .dataframe thead th {\n",
       "        text-align: right;\n",
       "    }\n",
       "</style>\n",
       "<table border=\"1\" class=\"dataframe\">\n",
       "  <thead>\n",
       "    <tr style=\"text-align: right;\">\n",
       "      <th></th>\n",
       "      <th>S.NO</th>\n",
       "      <th>Current Rank</th>\n",
       "      <th>Year</th>\n",
       "      <th>earnings ($ million)</th>\n",
       "    </tr>\n",
       "  </thead>\n",
       "  <tbody>\n",
       "    <tr>\n",
       "      <th>count</th>\n",
       "      <td>301.000000</td>\n",
       "      <td>301.000000</td>\n",
       "      <td>301.000000</td>\n",
       "      <td>301.000000</td>\n",
       "    </tr>\n",
       "    <tr>\n",
       "      <th>mean</th>\n",
       "      <td>151.000000</td>\n",
       "      <td>5.448505</td>\n",
       "      <td>2005.122924</td>\n",
       "      <td>45.516279</td>\n",
       "    </tr>\n",
       "    <tr>\n",
       "      <th>std</th>\n",
       "      <td>87.035433</td>\n",
       "      <td>2.850995</td>\n",
       "      <td>9.063563</td>\n",
       "      <td>33.525337</td>\n",
       "    </tr>\n",
       "    <tr>\n",
       "      <th>min</th>\n",
       "      <td>1.000000</td>\n",
       "      <td>1.000000</td>\n",
       "      <td>1990.000000</td>\n",
       "      <td>8.100000</td>\n",
       "    </tr>\n",
       "    <tr>\n",
       "      <th>25%</th>\n",
       "      <td>76.000000</td>\n",
       "      <td>3.000000</td>\n",
       "      <td>1997.000000</td>\n",
       "      <td>24.000000</td>\n",
       "    </tr>\n",
       "    <tr>\n",
       "      <th>50%</th>\n",
       "      <td>151.000000</td>\n",
       "      <td>5.000000</td>\n",
       "      <td>2005.000000</td>\n",
       "      <td>39.000000</td>\n",
       "    </tr>\n",
       "    <tr>\n",
       "      <th>75%</th>\n",
       "      <td>226.000000</td>\n",
       "      <td>8.000000</td>\n",
       "      <td>2013.000000</td>\n",
       "      <td>59.400000</td>\n",
       "    </tr>\n",
       "    <tr>\n",
       "      <th>max</th>\n",
       "      <td>301.000000</td>\n",
       "      <td>10.000000</td>\n",
       "      <td>2020.000000</td>\n",
       "      <td>300.000000</td>\n",
       "    </tr>\n",
       "  </tbody>\n",
       "</table>\n",
       "</div>"
      ],
      "text/plain": [
       "             S.NO  Current Rank         Year  earnings ($ million)\n",
       "count  301.000000    301.000000   301.000000            301.000000\n",
       "mean   151.000000      5.448505  2005.122924             45.516279\n",
       "std     87.035433      2.850995     9.063563             33.525337\n",
       "min      1.000000      1.000000  1990.000000              8.100000\n",
       "25%     76.000000      3.000000  1997.000000             24.000000\n",
       "50%    151.000000      5.000000  2005.000000             39.000000\n",
       "75%    226.000000      8.000000  2013.000000             59.400000\n",
       "max    301.000000     10.000000  2020.000000            300.000000"
      ]
     },
     "execution_count": 7,
     "metadata": {},
     "output_type": "execute_result"
    }
   ],
   "source": [
    "df.describe()"
   ]
  },
  {
   "cell_type": "markdown",
   "id": "a4333f91",
   "metadata": {
    "papermill": {
     "duration": 0.028335,
     "end_time": "2021-07-12T04:25:04.435283",
     "exception": false,
     "start_time": "2021-07-12T04:25:04.406948",
     "status": "completed"
    },
    "tags": []
   },
   "source": [
    "Earning\n",
    "* Average earning is $ 45 Million\n",
    "\n",
    "* Minimum is $ 8 Million\n",
    "\n",
    "* 50% athelets are under $ 39 Million\n",
    "\n",
    "* Maximum earning is $ 300 Million"
   ]
  },
  {
   "cell_type": "code",
   "execution_count": 8,
   "id": "2fb5cb11",
   "metadata": {
    "papermill": {
     "duration": 0.056666,
     "end_time": "2021-07-12T04:25:04.519322",
     "exception": false,
     "start_time": "2021-07-12T04:25:04.462656",
     "status": "completed"
    },
    "tags": []
   },
   "outputs": [
    {
     "data": {
      "text/html": [
       "<div>\n",
       "<style scoped>\n",
       "    .dataframe tbody tr th:only-of-type {\n",
       "        vertical-align: middle;\n",
       "    }\n",
       "\n",
       "    .dataframe tbody tr th {\n",
       "        vertical-align: top;\n",
       "    }\n",
       "\n",
       "    .dataframe thead th {\n",
       "        text-align: right;\n",
       "    }\n",
       "</style>\n",
       "<table border=\"1\" class=\"dataframe\">\n",
       "  <thead>\n",
       "    <tr style=\"text-align: right;\">\n",
       "      <th></th>\n",
       "      <th>S.NO</th>\n",
       "      <th>Name</th>\n",
       "      <th>Nationality</th>\n",
       "      <th>Current Rank</th>\n",
       "      <th>Previous Year Rank</th>\n",
       "      <th>Sport</th>\n",
       "      <th>Year</th>\n",
       "      <th>earnings ($ million)</th>\n",
       "    </tr>\n",
       "  </thead>\n",
       "  <tbody>\n",
       "    <tr>\n",
       "      <th>241</th>\n",
       "      <td>242</td>\n",
       "      <td>Floyd Mayweather</td>\n",
       "      <td>USA</td>\n",
       "      <td>1</td>\n",
       "      <td>1</td>\n",
       "      <td>Boxing</td>\n",
       "      <td>2015</td>\n",
       "      <td>300.0</td>\n",
       "    </tr>\n",
       "  </tbody>\n",
       "</table>\n",
       "</div>"
      ],
      "text/plain": [
       "     S.NO              Name Nationality  Current Rank Previous Year Rank  \\\n",
       "241   242  Floyd Mayweather         USA             1                  1   \n",
       "\n",
       "      Sport  Year  earnings ($ million)  \n",
       "241  Boxing  2015                 300.0  "
      ]
     },
     "execution_count": 8,
     "metadata": {},
     "output_type": "execute_result"
    }
   ],
   "source": [
    "df[df['earnings ($ million)'] >= 300]"
   ]
  },
  {
   "cell_type": "markdown",
   "id": "e01497a7",
   "metadata": {
    "papermill": {
     "duration": 0.027674,
     "end_time": "2021-07-12T04:25:04.575354",
     "exception": false,
     "start_time": "2021-07-12T04:25:04.547680",
     "status": "completed"
    },
    "tags": []
   },
   "source": [
    "* **Highest** paid athlete is Floyd Mayweather from USA of earning $ 300 Million"
   ]
  },
  {
   "cell_type": "code",
   "execution_count": 9,
   "id": "0029f83b",
   "metadata": {
    "papermill": {
     "duration": 0.048237,
     "end_time": "2021-07-12T04:25:04.651887",
     "exception": false,
     "start_time": "2021-07-12T04:25:04.603650",
     "status": "completed"
    },
    "tags": []
   },
   "outputs": [
    {
     "data": {
      "text/html": [
       "<div>\n",
       "<style scoped>\n",
       "    .dataframe tbody tr th:only-of-type {\n",
       "        vertical-align: middle;\n",
       "    }\n",
       "\n",
       "    .dataframe tbody tr th {\n",
       "        vertical-align: top;\n",
       "    }\n",
       "\n",
       "    .dataframe thead th {\n",
       "        text-align: right;\n",
       "    }\n",
       "</style>\n",
       "<table border=\"1\" class=\"dataframe\">\n",
       "  <thead>\n",
       "    <tr style=\"text-align: right;\">\n",
       "      <th></th>\n",
       "      <th>S.NO</th>\n",
       "      <th>Name</th>\n",
       "      <th>Nationality</th>\n",
       "      <th>Current Rank</th>\n",
       "      <th>Previous Year Rank</th>\n",
       "      <th>Sport</th>\n",
       "      <th>Year</th>\n",
       "      <th>earnings ($ million)</th>\n",
       "    </tr>\n",
       "  </thead>\n",
       "  <tbody>\n",
       "    <tr>\n",
       "      <th>4</th>\n",
       "      <td>5</td>\n",
       "      <td>Alain Prost</td>\n",
       "      <td>France</td>\n",
       "      <td>5</td>\n",
       "      <td>NaN</td>\n",
       "      <td>auto racing</td>\n",
       "      <td>1990</td>\n",
       "      <td>9.0</td>\n",
       "    </tr>\n",
       "    <tr>\n",
       "      <th>5</th>\n",
       "      <td>6</td>\n",
       "      <td>Jack Nicklaus</td>\n",
       "      <td>USA</td>\n",
       "      <td>6</td>\n",
       "      <td>NaN</td>\n",
       "      <td>golf</td>\n",
       "      <td>1990</td>\n",
       "      <td>8.6</td>\n",
       "    </tr>\n",
       "    <tr>\n",
       "      <th>6</th>\n",
       "      <td>7</td>\n",
       "      <td>Greg Norman</td>\n",
       "      <td>Australia</td>\n",
       "      <td>7</td>\n",
       "      <td>NaN</td>\n",
       "      <td>golf</td>\n",
       "      <td>1990</td>\n",
       "      <td>8.5</td>\n",
       "    </tr>\n",
       "    <tr>\n",
       "      <th>7</th>\n",
       "      <td>8</td>\n",
       "      <td>Michael Jordan</td>\n",
       "      <td>USA</td>\n",
       "      <td>8</td>\n",
       "      <td>NaN</td>\n",
       "      <td>basketball</td>\n",
       "      <td>1990</td>\n",
       "      <td>8.1</td>\n",
       "    </tr>\n",
       "    <tr>\n",
       "      <th>8</th>\n",
       "      <td>9</td>\n",
       "      <td>Arnold Palmer</td>\n",
       "      <td>USA</td>\n",
       "      <td>8</td>\n",
       "      <td>NaN</td>\n",
       "      <td>golf</td>\n",
       "      <td>1990</td>\n",
       "      <td>8.1</td>\n",
       "    </tr>\n",
       "    <tr>\n",
       "      <th>9</th>\n",
       "      <td>10</td>\n",
       "      <td>Evander Holyfield</td>\n",
       "      <td>USA</td>\n",
       "      <td>8</td>\n",
       "      <td>NaN</td>\n",
       "      <td>boxing</td>\n",
       "      <td>1990</td>\n",
       "      <td>8.1</td>\n",
       "    </tr>\n",
       "    <tr>\n",
       "      <th>18</th>\n",
       "      <td>19</td>\n",
       "      <td>Nigel Mansell</td>\n",
       "      <td>UK</td>\n",
       "      <td>9</td>\n",
       "      <td>12</td>\n",
       "      <td>auto racing</td>\n",
       "      <td>1991</td>\n",
       "      <td>9.0</td>\n",
       "    </tr>\n",
       "    <tr>\n",
       "      <th>19</th>\n",
       "      <td>20</td>\n",
       "      <td>Sugar Ray Leonard</td>\n",
       "      <td>USA</td>\n",
       "      <td>10</td>\n",
       "      <td>6</td>\n",
       "      <td>golf</td>\n",
       "      <td>1991</td>\n",
       "      <td>8.5</td>\n",
       "    </tr>\n",
       "    <tr>\n",
       "      <th>28</th>\n",
       "      <td>29</td>\n",
       "      <td>Jim Courier</td>\n",
       "      <td>USA</td>\n",
       "      <td>9</td>\n",
       "      <td>&gt;40</td>\n",
       "      <td>Tennis</td>\n",
       "      <td>1992</td>\n",
       "      <td>9.0</td>\n",
       "    </tr>\n",
       "    <tr>\n",
       "      <th>29</th>\n",
       "      <td>30</td>\n",
       "      <td>Monica Seles</td>\n",
       "      <td>USA</td>\n",
       "      <td>10</td>\n",
       "      <td>12</td>\n",
       "      <td>Tennis</td>\n",
       "      <td>1992</td>\n",
       "      <td>8.5</td>\n",
       "    </tr>\n",
       "  </tbody>\n",
       "</table>\n",
       "</div>"
      ],
      "text/plain": [
       "    S.NO               Name Nationality  Current Rank Previous Year Rank  \\\n",
       "4      5        Alain Prost      France             5                NaN   \n",
       "5      6      Jack Nicklaus         USA             6                NaN   \n",
       "6      7        Greg Norman   Australia             7                NaN   \n",
       "7      8     Michael Jordan         USA             8                NaN   \n",
       "8      9      Arnold Palmer         USA             8                NaN   \n",
       "9     10  Evander Holyfield         USA             8                NaN   \n",
       "18    19      Nigel Mansell          UK             9                 12   \n",
       "19    20  Sugar Ray Leonard         USA            10                  6   \n",
       "28    29        Jim Courier         USA             9                >40   \n",
       "29    30       Monica Seles         USA            10                 12   \n",
       "\n",
       "          Sport  Year  earnings ($ million)  \n",
       "4   auto racing  1990                   9.0  \n",
       "5          golf  1990                   8.6  \n",
       "6          golf  1990                   8.5  \n",
       "7    basketball  1990                   8.1  \n",
       "8          golf  1990                   8.1  \n",
       "9        boxing  1990                   8.1  \n",
       "18  auto racing  1991                   9.0  \n",
       "19         golf  1991                   8.5  \n",
       "28       Tennis  1992                   9.0  \n",
       "29       Tennis  1992                   8.5  "
      ]
     },
     "execution_count": 9,
     "metadata": {},
     "output_type": "execute_result"
    }
   ],
   "source": [
    "df[df['earnings ($ million)'] <= 9]"
   ]
  },
  {
   "cell_type": "markdown",
   "id": "08438d25",
   "metadata": {
    "papermill": {
     "duration": 0.028067,
     "end_time": "2021-07-12T04:25:04.709288",
     "exception": false,
     "start_time": "2021-07-12T04:25:04.681221",
     "status": "completed"
    },
    "tags": []
   },
   "source": [
    "* This are lowest earning players. **(Is it low income? :) )**"
   ]
  },
  {
   "cell_type": "markdown",
   "id": "15632233",
   "metadata": {
    "papermill": {
     "duration": 0.028309,
     "end_time": "2021-07-12T04:25:04.766089",
     "exception": false,
     "start_time": "2021-07-12T04:25:04.737780",
     "status": "completed"
    },
    "tags": []
   },
   "source": [
    "# Higheset spending year "
   ]
  },
  {
   "cell_type": "code",
   "execution_count": 10,
   "id": "5d851c11",
   "metadata": {
    "papermill": {
     "duration": 0.048716,
     "end_time": "2021-07-12T04:25:04.843737",
     "exception": false,
     "start_time": "2021-07-12T04:25:04.795021",
     "status": "completed"
    },
    "tags": []
   },
   "outputs": [
    {
     "data": {
      "text/html": [
       "<div>\n",
       "<style scoped>\n",
       "    .dataframe tbody tr th:only-of-type {\n",
       "        vertical-align: middle;\n",
       "    }\n",
       "\n",
       "    .dataframe tbody tr th {\n",
       "        vertical-align: top;\n",
       "    }\n",
       "\n",
       "    .dataframe thead th {\n",
       "        text-align: right;\n",
       "    }\n",
       "</style>\n",
       "<table border=\"1\" class=\"dataframe\">\n",
       "  <thead>\n",
       "    <tr style=\"text-align: right;\">\n",
       "      <th></th>\n",
       "      <th>S.NO</th>\n",
       "      <th>Current Rank</th>\n",
       "      <th>earnings ($ million)</th>\n",
       "    </tr>\n",
       "    <tr>\n",
       "      <th>Year</th>\n",
       "      <th></th>\n",
       "      <th></th>\n",
       "      <th></th>\n",
       "    </tr>\n",
       "  </thead>\n",
       "  <tbody>\n",
       "    <tr>\n",
       "      <th>2018</th>\n",
       "      <td>2765</td>\n",
       "      <td>55</td>\n",
       "      <td>1059.4</td>\n",
       "    </tr>\n",
       "    <tr>\n",
       "      <th>2015</th>\n",
       "      <td>2465</td>\n",
       "      <td>55</td>\n",
       "      <td>950.3</td>\n",
       "    </tr>\n",
       "    <tr>\n",
       "      <th>2019</th>\n",
       "      <td>2865</td>\n",
       "      <td>55</td>\n",
       "      <td>941.4</td>\n",
       "    </tr>\n",
       "    <tr>\n",
       "      <th>2020</th>\n",
       "      <td>2965</td>\n",
       "      <td>55</td>\n",
       "      <td>819.2</td>\n",
       "    </tr>\n",
       "    <tr>\n",
       "      <th>2014</th>\n",
       "      <td>2365</td>\n",
       "      <td>55</td>\n",
       "      <td>642.4</td>\n",
       "    </tr>\n",
       "    <tr>\n",
       "      <th>2016</th>\n",
       "      <td>2565</td>\n",
       "      <td>55</td>\n",
       "      <td>635.2</td>\n",
       "    </tr>\n",
       "    <tr>\n",
       "      <th>2017</th>\n",
       "      <td>2665</td>\n",
       "      <td>54</td>\n",
       "      <td>623.7</td>\n",
       "    </tr>\n",
       "  </tbody>\n",
       "</table>\n",
       "</div>"
      ],
      "text/plain": [
       "      S.NO  Current Rank  earnings ($ million)\n",
       "Year                                          \n",
       "2018  2765            55                1059.4\n",
       "2015  2465            55                 950.3\n",
       "2019  2865            55                 941.4\n",
       "2020  2965            55                 819.2\n",
       "2014  2365            55                 642.4\n",
       "2016  2565            55                 635.2\n",
       "2017  2665            54                 623.7"
      ]
     },
     "execution_count": 10,
     "metadata": {},
     "output_type": "execute_result"
    }
   ],
   "source": [
    "hi_year = df.groupby('Year').sum()\n",
    "hi_year.sort_values('earnings ($ million)',ascending=False).head(7)"
   ]
  },
  {
   "cell_type": "code",
   "execution_count": 11,
   "id": "a1c5e99d",
   "metadata": {
    "papermill": {
     "duration": 0.042155,
     "end_time": "2021-07-12T04:25:04.915926",
     "exception": false,
     "start_time": "2021-07-12T04:25:04.873771",
     "status": "completed"
    },
    "tags": []
   },
   "outputs": [],
   "source": [
    "hi_year['change'] = hi_year.pct_change()['earnings ($ million)']*100"
   ]
  },
  {
   "cell_type": "code",
   "execution_count": 12,
   "id": "4563ac98",
   "metadata": {
    "papermill": {
     "duration": 0.584836,
     "end_time": "2021-07-12T04:25:05.530344",
     "exception": false,
     "start_time": "2021-07-12T04:25:04.945508",
     "status": "completed"
    },
    "tags": []
   },
   "outputs": [
    {
     "data": {
      "text/plain": [
       "<AxesSubplot:xlabel='Year', ylabel='earnings ($ million)'>"
      ]
     },
     "execution_count": 12,
     "metadata": {},
     "output_type": "execute_result"
    },
    {
     "data": {
      "image/png": "[encoded data removed]",
      "text/plain": [
       "<Figure size 1800x720 with 1 Axes>"
      ]
     },
     "metadata": {},
     "output_type": "display_data"
    }
   ],
   "source": [
    "plt.figure(figsize=(25,10))\n",
    "sns.barplot(x=hi_year.index, y='earnings ($ million)', data=hi_year)"
   ]
  },
  {
   "cell_type": "code",
   "execution_count": 13,
   "id": "0411131c",
   "metadata": {
    "papermill": {
     "duration": 0.458528,
     "end_time": "2021-07-12T04:25:06.019770",
     "exception": false,
     "start_time": "2021-07-12T04:25:05.561242",
     "status": "completed"
    },
    "tags": []
   },
   "outputs": [
    {
     "data": {
      "text/plain": [
       "<AxesSubplot:xlabel='Year', ylabel='change'>"
      ]
     },
     "execution_count": 13,
     "metadata": {},
     "output_type": "execute_result"
    },
    {
     "data": {
      "image/png": "[encoded data removed]",
      "text/plain": [
       "<Figure size 1440x720 with 1 Axes>"
      ]
     },
     "metadata": {},
     "output_type": "display_data"
    }
   ],
   "source": [
    "plt.figure(figsize=(20,10))\n",
    "sns.regplot(x=hi_year.index, y='change', data=hi_year)\n",
    "sns.lineplot(x=hi_year.index, y='change', data=hi_year)"
   ]
  },
  {
   "cell_type": "markdown",
   "id": "e1b485d8",
   "metadata": {
    "papermill": {
     "duration": 0.033499,
     "end_time": "2021-07-12T04:25:06.087376",
     "exception": false,
     "start_time": "2021-07-12T04:25:06.053877",
     "status": "completed"
    },
    "tags": []
   },
   "source": [
    "* We can clearly see that in 1995 and 2015 has sudden increase in earning\n",
    "\n",
    "Maybe because of Olyampic in 1994 and 2014\n",
    "\n",
    "## what about 2018 to 2020 ?"
   ]
  },
  {
   "cell_type": "code",
   "execution_count": 14,
   "id": "3b12154d",
   "metadata": {
    "papermill": {
     "duration": 0.066848,
     "end_time": "2021-07-12T04:25:06.188686",
     "exception": false,
     "start_time": "2021-07-12T04:25:06.121838",
     "status": "completed"
    },
    "tags": []
   },
   "outputs": [
    {
     "data": {
      "text/html": [
       "<div>\n",
       "<style scoped>\n",
       "    .dataframe tbody tr th:only-of-type {\n",
       "        vertical-align: middle;\n",
       "    }\n",
       "\n",
       "    .dataframe tbody tr th {\n",
       "        vertical-align: top;\n",
       "    }\n",
       "\n",
       "    .dataframe thead th {\n",
       "        text-align: right;\n",
       "    }\n",
       "</style>\n",
       "<table border=\"1\" class=\"dataframe\">\n",
       "  <thead>\n",
       "    <tr style=\"text-align: right;\">\n",
       "      <th></th>\n",
       "      <th>count</th>\n",
       "      <th>earning</th>\n",
       "      <th>average</th>\n",
       "    </tr>\n",
       "    <tr>\n",
       "      <th>Name</th>\n",
       "      <th></th>\n",
       "      <th></th>\n",
       "      <th></th>\n",
       "    </tr>\n",
       "  </thead>\n",
       "  <tbody>\n",
       "    <tr>\n",
       "      <th>Aaron Rodgers</th>\n",
       "      <td>1</td>\n",
       "      <td>49.0</td>\n",
       "      <td>49.000000</td>\n",
       "    </tr>\n",
       "    <tr>\n",
       "      <th>Aaron Rogers</th>\n",
       "      <td>1</td>\n",
       "      <td>89.3</td>\n",
       "      <td>89.300000</td>\n",
       "    </tr>\n",
       "    <tr>\n",
       "      <th>Alain Prost</th>\n",
       "      <td>3</td>\n",
       "      <td>36.0</td>\n",
       "      <td>12.000000</td>\n",
       "    </tr>\n",
       "    <tr>\n",
       "      <th>Alex Rodriguez</th>\n",
       "      <td>4</td>\n",
       "      <td>116.2</td>\n",
       "      <td>29.050000</td>\n",
       "    </tr>\n",
       "    <tr>\n",
       "      <th>Andre Agassi</th>\n",
       "      <td>6</td>\n",
       "      <td>105.8</td>\n",
       "      <td>17.633333</td>\n",
       "    </tr>\n",
       "    <tr>\n",
       "      <th>...</th>\n",
       "      <td>...</td>\n",
       "      <td>...</td>\n",
       "      <td>...</td>\n",
       "    </tr>\n",
       "    <tr>\n",
       "      <th>Terrell Suggs</th>\n",
       "      <td>1</td>\n",
       "      <td>38.3</td>\n",
       "      <td>38.300000</td>\n",
       "    </tr>\n",
       "    <tr>\n",
       "      <th>Tiger Woods</th>\n",
       "      <td>19</td>\n",
       "      <td>1373.8</td>\n",
       "      <td>72.305263</td>\n",
       "    </tr>\n",
       "    <tr>\n",
       "      <th>Tom Brady</th>\n",
       "      <td>1</td>\n",
       "      <td>29.0</td>\n",
       "      <td>29.000000</td>\n",
       "    </tr>\n",
       "    <tr>\n",
       "      <th>Valentino Rossi</th>\n",
       "      <td>4</td>\n",
       "      <td>128.0</td>\n",
       "      <td>32.000000</td>\n",
       "    </tr>\n",
       "    <tr>\n",
       "      <th>Wayne Gretzky</th>\n",
       "      <td>2</td>\n",
       "      <td>28.0</td>\n",
       "      <td>14.000000</td>\n",
       "    </tr>\n",
       "  </tbody>\n",
       "</table>\n",
       "<p>82 rows × 3 columns</p>\n",
       "</div>"
      ],
      "text/plain": [
       "                 count  earning    average\n",
       "Name                                      \n",
       "Aaron Rodgers        1     49.0  49.000000\n",
       "Aaron Rogers         1     89.3  89.300000\n",
       "Alain Prost          3     36.0  12.000000\n",
       "Alex Rodriguez       4    116.2  29.050000\n",
       "Andre Agassi         6    105.8  17.633333\n",
       "...                ...      ...        ...\n",
       "Terrell Suggs        1     38.3  38.300000\n",
       "Tiger Woods         19   1373.8  72.305263\n",
       "Tom Brady            1     29.0  29.000000\n",
       "Valentino Rossi      4    128.0  32.000000\n",
       "Wayne Gretzky        2     28.0  14.000000\n",
       "\n",
       "[82 rows x 3 columns]"
      ]
     },
     "execution_count": 14,
     "metadata": {},
     "output_type": "execute_result"
    }
   ],
   "source": [
    "df_n = df.groupby('Name').count()[['Year','S.NO']]\n",
    "df_n['earning'] = df.groupby('Name').sum()['earnings ($ million)']\n",
    "df_n['average'] = df_n.earning / df_n.Year\n",
    "df_n = df_n.drop('S.NO',axis=1)\n",
    "df_n = df_n.rename(columns={'Year':'count'})\n",
    "df_n\n",
    "# .sort_values('Year',ascending=False)"
   ]
  },
  {
   "cell_type": "code",
   "execution_count": 15,
   "id": "658837c9",
   "metadata": {
    "papermill": {
     "duration": 0.052022,
     "end_time": "2021-07-12T04:25:06.278748",
     "exception": false,
     "start_time": "2021-07-12T04:25:06.226726",
     "status": "completed"
    },
    "tags": []
   },
   "outputs": [
    {
     "data": {
      "text/html": [
       "<div>\n",
       "<style scoped>\n",
       "    .dataframe tbody tr th:only-of-type {\n",
       "        vertical-align: middle;\n",
       "    }\n",
       "\n",
       "    .dataframe tbody tr th {\n",
       "        vertical-align: top;\n",
       "    }\n",
       "\n",
       "    .dataframe thead th {\n",
       "        text-align: right;\n",
       "    }\n",
       "</style>\n",
       "<table border=\"1\" class=\"dataframe\">\n",
       "  <thead>\n",
       "    <tr style=\"text-align: right;\">\n",
       "      <th></th>\n",
       "      <th>count</th>\n",
       "      <th>earning</th>\n",
       "      <th>average</th>\n",
       "    </tr>\n",
       "    <tr>\n",
       "      <th>Name</th>\n",
       "      <th></th>\n",
       "      <th></th>\n",
       "      <th></th>\n",
       "    </tr>\n",
       "  </thead>\n",
       "  <tbody>\n",
       "    <tr>\n",
       "      <th>Michael Jordan</th>\n",
       "      <td>19</td>\n",
       "      <td>738.8</td>\n",
       "      <td>38.884211</td>\n",
       "    </tr>\n",
       "    <tr>\n",
       "      <th>Tiger Woods</th>\n",
       "      <td>19</td>\n",
       "      <td>1373.8</td>\n",
       "      <td>72.305263</td>\n",
       "    </tr>\n",
       "    <tr>\n",
       "      <th>Kobe Bryant</th>\n",
       "      <td>14</td>\n",
       "      <td>601.1</td>\n",
       "      <td>42.935714</td>\n",
       "    </tr>\n",
       "    <tr>\n",
       "      <th>LeBron James</th>\n",
       "      <td>13</td>\n",
       "      <td>844.8</td>\n",
       "      <td>64.984615</td>\n",
       "    </tr>\n",
       "    <tr>\n",
       "      <th>Michael Schumacher</th>\n",
       "      <td>13</td>\n",
       "      <td>639.0</td>\n",
       "      <td>49.153846</td>\n",
       "    </tr>\n",
       "    <tr>\n",
       "      <th>Roger Federer</th>\n",
       "      <td>12</td>\n",
       "      <td>781.1</td>\n",
       "      <td>65.091667</td>\n",
       "    </tr>\n",
       "    <tr>\n",
       "      <th>Phil Mickelson</th>\n",
       "      <td>11</td>\n",
       "      <td>519.9</td>\n",
       "      <td>47.263636</td>\n",
       "    </tr>\n",
       "  </tbody>\n",
       "</table>\n",
       "</div>"
      ],
      "text/plain": [
       "                    count  earning    average\n",
       "Name                                         \n",
       "Michael Jordan         19    738.8  38.884211\n",
       "Tiger Woods            19   1373.8  72.305263\n",
       "Kobe Bryant            14    601.1  42.935714\n",
       "LeBron James           13    844.8  64.984615\n",
       "Michael Schumacher     13    639.0  49.153846\n",
       "Roger Federer          12    781.1  65.091667\n",
       "Phil Mickelson         11    519.9  47.263636"
      ]
     },
     "execution_count": 15,
     "metadata": {},
     "output_type": "execute_result"
    }
   ],
   "source": [
    "df_n.sort_values('count',ascending=False).head(7)"
   ]
  },
  {
   "cell_type": "markdown",
   "id": "741473f1",
   "metadata": {
    "papermill": {
     "duration": 0.034835,
     "end_time": "2021-07-12T04:25:06.348527",
     "exception": false,
     "start_time": "2021-07-12T04:25:06.313692",
     "status": "completed"
    },
    "tags": []
   },
   "source": [
    "* Michael Jordan , Tiger Woods these players are appear more in Forbes list for 19 times"
   ]
  },
  {
   "cell_type": "code",
   "execution_count": 16,
   "id": "6abb3423",
   "metadata": {
    "papermill": {
     "duration": 0.052103,
     "end_time": "2021-07-12T04:25:06.435602",
     "exception": false,
     "start_time": "2021-07-12T04:25:06.383499",
     "status": "completed"
    },
    "tags": []
   },
   "outputs": [
    {
     "data": {
      "text/html": [
       "<div>\n",
       "<style scoped>\n",
       "    .dataframe tbody tr th:only-of-type {\n",
       "        vertical-align: middle;\n",
       "    }\n",
       "\n",
       "    .dataframe tbody tr th {\n",
       "        vertical-align: top;\n",
       "    }\n",
       "\n",
       "    .dataframe thead th {\n",
       "        text-align: right;\n",
       "    }\n",
       "</style>\n",
       "<table border=\"1\" class=\"dataframe\">\n",
       "  <thead>\n",
       "    <tr style=\"text-align: right;\">\n",
       "      <th></th>\n",
       "      <th>count</th>\n",
       "      <th>earning</th>\n",
       "      <th>average</th>\n",
       "    </tr>\n",
       "    <tr>\n",
       "      <th>Name</th>\n",
       "      <th></th>\n",
       "      <th></th>\n",
       "      <th></th>\n",
       "    </tr>\n",
       "  </thead>\n",
       "  <tbody>\n",
       "    <tr>\n",
       "      <th>Floyd Mayweather</th>\n",
       "      <td>5</td>\n",
       "      <td>840.0</td>\n",
       "      <td>168.000000</td>\n",
       "    </tr>\n",
       "    <tr>\n",
       "      <th>Conor McGregor</th>\n",
       "      <td>1</td>\n",
       "      <td>99.0</td>\n",
       "      <td>99.000000</td>\n",
       "    </tr>\n",
       "    <tr>\n",
       "      <th>Neymar</th>\n",
       "      <td>3</td>\n",
       "      <td>290.5</td>\n",
       "      <td>96.833333</td>\n",
       "    </tr>\n",
       "    <tr>\n",
       "      <th>Canelo Alvarez</th>\n",
       "      <td>1</td>\n",
       "      <td>94.0</td>\n",
       "      <td>94.000000</td>\n",
       "    </tr>\n",
       "    <tr>\n",
       "      <th>Russell Wilson</th>\n",
       "      <td>1</td>\n",
       "      <td>89.5</td>\n",
       "      <td>89.500000</td>\n",
       "    </tr>\n",
       "    <tr>\n",
       "      <th>Aaron Rogers</th>\n",
       "      <td>1</td>\n",
       "      <td>89.3</td>\n",
       "      <td>89.300000</td>\n",
       "    </tr>\n",
       "    <tr>\n",
       "      <th>Lionel Messi</th>\n",
       "      <td>9</td>\n",
       "      <td>715.5</td>\n",
       "      <td>79.500000</td>\n",
       "    </tr>\n",
       "  </tbody>\n",
       "</table>\n",
       "</div>"
      ],
      "text/plain": [
       "                  count  earning     average\n",
       "Name                                        \n",
       "Floyd Mayweather      5    840.0  168.000000\n",
       "Conor McGregor        1     99.0   99.000000\n",
       "Neymar                3    290.5   96.833333\n",
       "Canelo Alvarez        1     94.0   94.000000\n",
       "Russell Wilson        1     89.5   89.500000\n",
       "Aaron Rogers          1     89.3   89.300000\n",
       "Lionel Messi          9    715.5   79.500000"
      ]
     },
     "execution_count": 16,
     "metadata": {},
     "output_type": "execute_result"
    }
   ],
   "source": [
    "df_n.sort_values('average',ascending=False).head(7)"
   ]
  },
  {
   "cell_type": "markdown",
   "id": "be0153d0",
   "metadata": {
    "papermill": {
     "duration": 0.035236,
     "end_time": "2021-07-12T04:25:06.509355",
     "exception": false,
     "start_time": "2021-07-12T04:25:06.474119",
     "status": "completed"
    },
    "tags": []
   },
   "source": [
    "* But when we see by average earning Floyd Mayweather, Conor McGregor and Neymar are the topper"
   ]
  },
  {
   "cell_type": "code",
   "execution_count": 17,
   "id": "fa7767a3",
   "metadata": {
    "papermill": {
     "duration": 0.300555,
     "end_time": "2021-07-12T04:25:06.845375",
     "exception": false,
     "start_time": "2021-07-12T04:25:06.544820",
     "status": "completed"
    },
    "tags": []
   },
   "outputs": [
    {
     "data": {
      "text/plain": [
       "<AxesSubplot:xlabel='Year', ylabel='earnings ($ million)'>"
      ]
     },
     "execution_count": 17,
     "metadata": {},
     "output_type": "execute_result"
    },
    {
     "data": {
      "image/png": "[encoded data removed]",
      "text/plain": [
       "<Figure size 432x288 with 1 Axes>"
      ]
     },
     "metadata": {},
     "output_type": "display_data"
    }
   ],
   "source": [
    "sns.lineplot(y=df[df.Name == 'Michael Jordan']['earnings ($ million)'], x=df[df.Name == 'Michael Jordan']['Year'], label='Michael Jordan')\n",
    "sns.lineplot(y=df[df.Name == 'Tiger Woods']['earnings ($ million)'], x=df[df.Name == 'Tiger Woods']['Year'], label='Tiger Woods')"
   ]
  },
  {
   "cell_type": "markdown",
   "id": "be72d641",
   "metadata": {
    "papermill": {
     "duration": 0.037183,
     "end_time": "2021-07-12T04:25:06.921753",
     "exception": false,
     "start_time": "2021-07-12T04:25:06.884570",
     "status": "completed"
    },
    "tags": []
   },
   "source": [
    "# Which sport are richest"
   ]
  },
  {
   "cell_type": "code",
   "execution_count": 18,
   "id": "b4a26391",
   "metadata": {
    "papermill": {
     "duration": 0.061743,
     "end_time": "2021-07-12T04:25:07.020427",
     "exception": false,
     "start_time": "2021-07-12T04:25:06.958684",
     "status": "completed"
    },
    "tags": []
   },
   "outputs": [
    {
     "data": {
      "text/html": [
       "<div>\n",
       "<style scoped>\n",
       "    .dataframe tbody tr th:only-of-type {\n",
       "        vertical-align: middle;\n",
       "    }\n",
       "\n",
       "    .dataframe tbody tr th {\n",
       "        vertical-align: top;\n",
       "    }\n",
       "\n",
       "    .dataframe thead th {\n",
       "        text-align: right;\n",
       "    }\n",
       "</style>\n",
       "<table border=\"1\" class=\"dataframe\">\n",
       "  <thead>\n",
       "    <tr style=\"text-align: right;\">\n",
       "      <th></th>\n",
       "      <th>S.NO</th>\n",
       "      <th>Current Rank</th>\n",
       "      <th>Year</th>\n",
       "      <th>earnings ($ million)</th>\n",
       "    </tr>\n",
       "    <tr>\n",
       "      <th>Sport</th>\n",
       "      <th></th>\n",
       "      <th></th>\n",
       "      <th></th>\n",
       "      <th></th>\n",
       "    </tr>\n",
       "  </thead>\n",
       "  <tbody>\n",
       "    <tr>\n",
       "      <th>American Football</th>\n",
       "      <td>4018</td>\n",
       "      <td>130</td>\n",
       "      <td>34234</td>\n",
       "      <td>901.2</td>\n",
       "    </tr>\n",
       "    <tr>\n",
       "      <th>American Football / Baseball</th>\n",
       "      <td>53</td>\n",
       "      <td>3</td>\n",
       "      <td>1995</td>\n",
       "      <td>22.5</td>\n",
       "    </tr>\n",
       "    <tr>\n",
       "      <th>Auto Racing</th>\n",
       "      <td>718</td>\n",
       "      <td>57</td>\n",
       "      <td>19968</td>\n",
       "      <td>254.8</td>\n",
       "    </tr>\n",
       "    <tr>\n",
       "      <th>Auto Racing (Nascar)</th>\n",
       "      <td>227</td>\n",
       "      <td>16</td>\n",
       "      <td>4002</td>\n",
       "      <td>44.5</td>\n",
       "    </tr>\n",
       "    <tr>\n",
       "      <th>Auto racing</th>\n",
       "      <td>33</td>\n",
       "      <td>3</td>\n",
       "      <td>1993</td>\n",
       "      <td>18.5</td>\n",
       "    </tr>\n",
       "    <tr>\n",
       "      <th>Baseball</th>\n",
       "      <td>256</td>\n",
       "      <td>25</td>\n",
       "      <td>5994</td>\n",
       "      <td>55.9</td>\n",
       "    </tr>\n",
       "    <tr>\n",
       "      <th>Basketball</th>\n",
       "      <td>8939</td>\n",
       "      <td>308</td>\n",
       "      <td>108353</td>\n",
       "      <td>2477.5</td>\n",
       "    </tr>\n",
       "    <tr>\n",
       "      <th>Boxing</th>\n",
       "      <td>3413</td>\n",
       "      <td>125</td>\n",
       "      <td>58048</td>\n",
       "      <td>1743.2</td>\n",
       "    </tr>\n",
       "    <tr>\n",
       "      <th>F1 Motorsports</th>\n",
       "      <td>454</td>\n",
       "      <td>13</td>\n",
       "      <td>9996</td>\n",
       "      <td>248.0</td>\n",
       "    </tr>\n",
       "    <tr>\n",
       "      <th>F1 racing</th>\n",
       "      <td>1331</td>\n",
       "      <td>31</td>\n",
       "      <td>16057</td>\n",
       "      <td>397.0</td>\n",
       "    </tr>\n",
       "    <tr>\n",
       "      <th>Golf</th>\n",
       "      <td>3827</td>\n",
       "      <td>133</td>\n",
       "      <td>48142</td>\n",
       "      <td>1049.6</td>\n",
       "    </tr>\n",
       "    <tr>\n",
       "      <th>Hockey</th>\n",
       "      <td>79</td>\n",
       "      <td>9</td>\n",
       "      <td>1997</td>\n",
       "      <td>17.9</td>\n",
       "    </tr>\n",
       "    <tr>\n",
       "      <th>Ice Hockey</th>\n",
       "      <td>129</td>\n",
       "      <td>8</td>\n",
       "      <td>3992</td>\n",
       "      <td>43.3</td>\n",
       "    </tr>\n",
       "    <tr>\n",
       "      <th>MMA</th>\n",
       "      <td>275</td>\n",
       "      <td>4</td>\n",
       "      <td>2018</td>\n",
       "      <td>99.0</td>\n",
       "    </tr>\n",
       "    <tr>\n",
       "      <th>NASCAR</th>\n",
       "      <td>354</td>\n",
       "      <td>23</td>\n",
       "      <td>6004</td>\n",
       "      <td>77.2</td>\n",
       "    </tr>\n",
       "    <tr>\n",
       "      <th>NBA</th>\n",
       "      <td>36</td>\n",
       "      <td>6</td>\n",
       "      <td>1993</td>\n",
       "      <td>15.2</td>\n",
       "    </tr>\n",
       "    <tr>\n",
       "      <th>NFL</th>\n",
       "      <td>132</td>\n",
       "      <td>22</td>\n",
       "      <td>5981</td>\n",
       "      <td>37.5</td>\n",
       "    </tr>\n",
       "    <tr>\n",
       "      <th>Soccer</th>\n",
       "      <td>5671</td>\n",
       "      <td>89</td>\n",
       "      <td>44358</td>\n",
       "      <td>1816.0</td>\n",
       "    </tr>\n",
       "    <tr>\n",
       "      <th>Tennis</th>\n",
       "      <td>3166</td>\n",
       "      <td>114</td>\n",
       "      <td>36136</td>\n",
       "      <td>848.1</td>\n",
       "    </tr>\n",
       "    <tr>\n",
       "      <th>auto racing</th>\n",
       "      <td>389</td>\n",
       "      <td>48</td>\n",
       "      <td>13965</td>\n",
       "      <td>113.0</td>\n",
       "    </tr>\n",
       "    <tr>\n",
       "      <th>baseball</th>\n",
       "      <td>509</td>\n",
       "      <td>26</td>\n",
       "      <td>6021</td>\n",
       "      <td>90.2</td>\n",
       "    </tr>\n",
       "    <tr>\n",
       "      <th>basketball</th>\n",
       "      <td>3979</td>\n",
       "      <td>143</td>\n",
       "      <td>54134</td>\n",
       "      <td>940.6</td>\n",
       "    </tr>\n",
       "    <tr>\n",
       "      <th>boxing</th>\n",
       "      <td>1274</td>\n",
       "      <td>64</td>\n",
       "      <td>33956</td>\n",
       "      <td>555.6</td>\n",
       "    </tr>\n",
       "    <tr>\n",
       "      <th>cycling</th>\n",
       "      <td>150</td>\n",
       "      <td>9</td>\n",
       "      <td>2005</td>\n",
       "      <td>28.0</td>\n",
       "    </tr>\n",
       "    <tr>\n",
       "      <th>golf</th>\n",
       "      <td>2537</td>\n",
       "      <td>80</td>\n",
       "      <td>40058</td>\n",
       "      <td>1086.9</td>\n",
       "    </tr>\n",
       "    <tr>\n",
       "      <th>ice hockey</th>\n",
       "      <td>60</td>\n",
       "      <td>10</td>\n",
       "      <td>1995</td>\n",
       "      <td>14.5</td>\n",
       "    </tr>\n",
       "    <tr>\n",
       "      <th>motorcycle gp</th>\n",
       "      <td>680</td>\n",
       "      <td>35</td>\n",
       "      <td>8028</td>\n",
       "      <td>128.0</td>\n",
       "    </tr>\n",
       "    <tr>\n",
       "      <th>soccer</th>\n",
       "      <td>1984</td>\n",
       "      <td>73</td>\n",
       "      <td>22091</td>\n",
       "      <td>407.5</td>\n",
       "    </tr>\n",
       "    <tr>\n",
       "      <th>tennis</th>\n",
       "      <td>778</td>\n",
       "      <td>33</td>\n",
       "      <td>10028</td>\n",
       "      <td>169.2</td>\n",
       "    </tr>\n",
       "  </tbody>\n",
       "</table>\n",
       "</div>"
      ],
      "text/plain": [
       "                              S.NO  Current Rank    Year  earnings ($ million)\n",
       "Sport                                                                         \n",
       "American Football             4018           130   34234                 901.2\n",
       "American Football / Baseball    53             3    1995                  22.5\n",
       "Auto Racing                    718            57   19968                 254.8\n",
       "Auto Racing (Nascar)           227            16    4002                  44.5\n",
       "Auto racing                     33             3    1993                  18.5\n",
       "Baseball                       256            25    5994                  55.9\n",
       "Basketball                    8939           308  108353                2477.5\n",
       "Boxing                        3413           125   58048                1743.2\n",
       "F1 Motorsports                 454            13    9996                 248.0\n",
       "F1 racing                     1331            31   16057                 397.0\n",
       "Golf                          3827           133   48142                1049.6\n",
       "Hockey                          79             9    1997                  17.9\n",
       "Ice Hockey                     129             8    3992                  43.3\n",
       "MMA                            275             4    2018                  99.0\n",
       "NASCAR                         354            23    6004                  77.2\n",
       "NBA                             36             6    1993                  15.2\n",
       "NFL                            132            22    5981                  37.5\n",
       "Soccer                        5671            89   44358                1816.0\n",
       "Tennis                        3166           114   36136                 848.1\n",
       "auto racing                    389            48   13965                 113.0\n",
       "baseball                       509            26    6021                  90.2\n",
       "basketball                    3979           143   54134                 940.6\n",
       "boxing                        1274            64   33956                 555.6\n",
       "cycling                        150             9    2005                  28.0\n",
       "golf                          2537            80   40058                1086.9\n",
       "ice hockey                      60            10    1995                  14.5\n",
       "motorcycle gp                  680            35    8028                 128.0\n",
       "soccer                        1984            73   22091                 407.5\n",
       "tennis                         778            33   10028                 169.2"
      ]
     },
     "execution_count": 18,
     "metadata": {},
     "output_type": "execute_result"
    }
   ],
   "source": [
    "df.groupby('Sport').sum()"
   ]
  },
  {
   "cell_type": "markdown",
   "id": "928eed2a",
   "metadata": {
    "papermill": {
     "duration": 0.038087,
     "end_time": "2021-07-12T04:25:07.096188",
     "exception": false,
     "start_time": "2021-07-12T04:25:07.058101",
     "status": "completed"
    },
    "tags": []
   },
   "source": [
    "* Need some feature engineering because , ex. Soccer and soccer are two different categories we need to merge them"
   ]
  },
  {
   "cell_type": "code",
   "execution_count": 19,
   "id": "5a8a1f49",
   "metadata": {
    "papermill": {
     "duration": 0.050735,
     "end_time": "2021-07-12T04:25:07.184558",
     "exception": false,
     "start_time": "2021-07-12T04:25:07.133823",
     "status": "completed"
    },
    "tags": []
   },
   "outputs": [],
   "source": [
    "s_name = {'baseball' : 'Baseball', 'F1 Motorsports' : 'F1 racing', 'soccer' : 'Soccer', 'golf' : 'Golf',\n",
    "          'basketball' : 'Basketball', 'boxing' : 'Boxing', 'auto racing':'Auto Racing',\n",
    "         'Auto Racing (Nascar)':'Auto Racing', 'Auto racing':'Auto Racing', 'ice hockey':'Ice Hockey',\n",
    "         'American Football / Baseball':'American Football','NASCAR':'Auto Racing','NFL':'American Football'}\n",
    "df['Sport'] = df.Sport.replace(s_name)"
   ]
  },
  {
   "cell_type": "code",
   "execution_count": 20,
   "id": "c837630e",
   "metadata": {
    "papermill": {
     "duration": 0.067376,
     "end_time": "2021-07-12T04:25:07.289663",
     "exception": false,
     "start_time": "2021-07-12T04:25:07.222287",
     "status": "completed"
    },
    "tags": []
   },
   "outputs": [
    {
     "data": {
      "text/html": [
       "<div>\n",
       "<style scoped>\n",
       "    .dataframe tbody tr th:only-of-type {\n",
       "        vertical-align: middle;\n",
       "    }\n",
       "\n",
       "    .dataframe tbody tr th {\n",
       "        vertical-align: top;\n",
       "    }\n",
       "\n",
       "    .dataframe thead th {\n",
       "        text-align: right;\n",
       "    }\n",
       "</style>\n",
       "<table border=\"1\" class=\"dataframe\">\n",
       "  <thead>\n",
       "    <tr style=\"text-align: right;\">\n",
       "      <th></th>\n",
       "      <th>count</th>\n",
       "      <th>earning</th>\n",
       "      <th>average</th>\n",
       "    </tr>\n",
       "    <tr>\n",
       "      <th>Sport</th>\n",
       "      <th></th>\n",
       "      <th></th>\n",
       "      <th></th>\n",
       "    </tr>\n",
       "  </thead>\n",
       "  <tbody>\n",
       "    <tr>\n",
       "      <th>American Football</th>\n",
       "      <td>21</td>\n",
       "      <td>961.2</td>\n",
       "      <td>45.771429</td>\n",
       "    </tr>\n",
       "    <tr>\n",
       "      <th>Auto Racing</th>\n",
       "      <td>23</td>\n",
       "      <td>508.0</td>\n",
       "      <td>22.086957</td>\n",
       "    </tr>\n",
       "    <tr>\n",
       "      <th>Baseball</th>\n",
       "      <td>6</td>\n",
       "      <td>146.1</td>\n",
       "      <td>24.350000</td>\n",
       "    </tr>\n",
       "    <tr>\n",
       "      <th>Basketball</th>\n",
       "      <td>81</td>\n",
       "      <td>3418.1</td>\n",
       "      <td>42.198765</td>\n",
       "    </tr>\n",
       "    <tr>\n",
       "      <th>Boxing</th>\n",
       "      <td>46</td>\n",
       "      <td>2298.8</td>\n",
       "      <td>49.973913</td>\n",
       "    </tr>\n",
       "    <tr>\n",
       "      <th>F1 racing</th>\n",
       "      <td>13</td>\n",
       "      <td>645.0</td>\n",
       "      <td>49.615385</td>\n",
       "    </tr>\n",
       "    <tr>\n",
       "      <th>Golf</th>\n",
       "      <td>44</td>\n",
       "      <td>2136.5</td>\n",
       "      <td>48.556818</td>\n",
       "    </tr>\n",
       "    <tr>\n",
       "      <th>Hockey</th>\n",
       "      <td>1</td>\n",
       "      <td>17.9</td>\n",
       "      <td>17.900000</td>\n",
       "    </tr>\n",
       "    <tr>\n",
       "      <th>Ice Hockey</th>\n",
       "      <td>3</td>\n",
       "      <td>57.8</td>\n",
       "      <td>19.266667</td>\n",
       "    </tr>\n",
       "    <tr>\n",
       "      <th>MMA</th>\n",
       "      <td>1</td>\n",
       "      <td>99.0</td>\n",
       "      <td>99.000000</td>\n",
       "    </tr>\n",
       "    <tr>\n",
       "      <th>NBA</th>\n",
       "      <td>1</td>\n",
       "      <td>15.2</td>\n",
       "      <td>15.200000</td>\n",
       "    </tr>\n",
       "    <tr>\n",
       "      <th>Soccer</th>\n",
       "      <td>33</td>\n",
       "      <td>2223.5</td>\n",
       "      <td>67.378788</td>\n",
       "    </tr>\n",
       "    <tr>\n",
       "      <th>Tennis</th>\n",
       "      <td>18</td>\n",
       "      <td>848.1</td>\n",
       "      <td>47.116667</td>\n",
       "    </tr>\n",
       "    <tr>\n",
       "      <th>cycling</th>\n",
       "      <td>1</td>\n",
       "      <td>28.0</td>\n",
       "      <td>28.000000</td>\n",
       "    </tr>\n",
       "    <tr>\n",
       "      <th>motorcycle gp</th>\n",
       "      <td>4</td>\n",
       "      <td>128.0</td>\n",
       "      <td>32.000000</td>\n",
       "    </tr>\n",
       "    <tr>\n",
       "      <th>tennis</th>\n",
       "      <td>5</td>\n",
       "      <td>169.2</td>\n",
       "      <td>33.840000</td>\n",
       "    </tr>\n",
       "  </tbody>\n",
       "</table>\n",
       "</div>"
      ],
      "text/plain": [
       "                   count  earning    average\n",
       "Sport                                       \n",
       "American Football     21    961.2  45.771429\n",
       "Auto Racing           23    508.0  22.086957\n",
       "Baseball               6    146.1  24.350000\n",
       "Basketball            81   3418.1  42.198765\n",
       "Boxing                46   2298.8  49.973913\n",
       "F1 racing             13    645.0  49.615385\n",
       "Golf                  44   2136.5  48.556818\n",
       "Hockey                 1     17.9  17.900000\n",
       "Ice Hockey             3     57.8  19.266667\n",
       "MMA                    1     99.0  99.000000\n",
       "NBA                    1     15.2  15.200000\n",
       "Soccer                33   2223.5  67.378788\n",
       "Tennis                18    848.1  47.116667\n",
       "cycling                1     28.0  28.000000\n",
       "motorcycle gp          4    128.0  32.000000\n",
       "tennis                 5    169.2  33.840000"
      ]
     },
     "execution_count": 20,
     "metadata": {},
     "output_type": "execute_result"
    }
   ],
   "source": [
    "df_s = df.groupby('Sport').count()[['Year','S.NO']]\n",
    "df_s['earning'] = df.groupby('Sport').sum()['earnings ($ million)']\n",
    "df_s['average'] = df_s.earning / df_s.Year\n",
    "df_s = df_s.drop('S.NO',axis=1)\n",
    "df_s = df_s.rename(columns={'Year':'count'})\n",
    "df_s\n",
    "# .sort_values('Year',ascending=False)"
   ]
  },
  {
   "cell_type": "code",
   "execution_count": 21,
   "id": "62915054",
   "metadata": {
    "papermill": {
     "duration": 0.055516,
     "end_time": "2021-07-12T04:25:07.386833",
     "exception": false,
     "start_time": "2021-07-12T04:25:07.331317",
     "status": "completed"
    },
    "tags": []
   },
   "outputs": [
    {
     "data": {
      "text/html": [
       "<div>\n",
       "<style scoped>\n",
       "    .dataframe tbody tr th:only-of-type {\n",
       "        vertical-align: middle;\n",
       "    }\n",
       "\n",
       "    .dataframe tbody tr th {\n",
       "        vertical-align: top;\n",
       "    }\n",
       "\n",
       "    .dataframe thead th {\n",
       "        text-align: right;\n",
       "    }\n",
       "</style>\n",
       "<table border=\"1\" class=\"dataframe\">\n",
       "  <thead>\n",
       "    <tr style=\"text-align: right;\">\n",
       "      <th></th>\n",
       "      <th>count</th>\n",
       "      <th>earning</th>\n",
       "      <th>average</th>\n",
       "    </tr>\n",
       "    <tr>\n",
       "      <th>Sport</th>\n",
       "      <th></th>\n",
       "      <th></th>\n",
       "      <th></th>\n",
       "    </tr>\n",
       "  </thead>\n",
       "  <tbody>\n",
       "    <tr>\n",
       "      <th>Basketball</th>\n",
       "      <td>81</td>\n",
       "      <td>3418.1</td>\n",
       "      <td>42.198765</td>\n",
       "    </tr>\n",
       "    <tr>\n",
       "      <th>Boxing</th>\n",
       "      <td>46</td>\n",
       "      <td>2298.8</td>\n",
       "      <td>49.973913</td>\n",
       "    </tr>\n",
       "    <tr>\n",
       "      <th>Soccer</th>\n",
       "      <td>33</td>\n",
       "      <td>2223.5</td>\n",
       "      <td>67.378788</td>\n",
       "    </tr>\n",
       "    <tr>\n",
       "      <th>Golf</th>\n",
       "      <td>44</td>\n",
       "      <td>2136.5</td>\n",
       "      <td>48.556818</td>\n",
       "    </tr>\n",
       "    <tr>\n",
       "      <th>American Football</th>\n",
       "      <td>21</td>\n",
       "      <td>961.2</td>\n",
       "      <td>45.771429</td>\n",
       "    </tr>\n",
       "    <tr>\n",
       "      <th>Tennis</th>\n",
       "      <td>18</td>\n",
       "      <td>848.1</td>\n",
       "      <td>47.116667</td>\n",
       "    </tr>\n",
       "    <tr>\n",
       "      <th>F1 racing</th>\n",
       "      <td>13</td>\n",
       "      <td>645.0</td>\n",
       "      <td>49.615385</td>\n",
       "    </tr>\n",
       "  </tbody>\n",
       "</table>\n",
       "</div>"
      ],
      "text/plain": [
       "                   count  earning    average\n",
       "Sport                                       \n",
       "Basketball            81   3418.1  42.198765\n",
       "Boxing                46   2298.8  49.973913\n",
       "Soccer                33   2223.5  67.378788\n",
       "Golf                  44   2136.5  48.556818\n",
       "American Football     21    961.2  45.771429\n",
       "Tennis                18    848.1  47.116667\n",
       "F1 racing             13    645.0  49.615385"
      ]
     },
     "execution_count": 21,
     "metadata": {},
     "output_type": "execute_result"
    }
   ],
   "source": [
    "df_s.sort_values('earning',ascending=False).head(7)"
   ]
  },
  {
   "cell_type": "markdown",
   "id": "79bffd93",
   "metadata": {
    "papermill": {
     "duration": 0.038208,
     "end_time": "2021-07-12T04:25:07.467581",
     "exception": false,
     "start_time": "2021-07-12T04:25:07.429373",
     "status": "completed"
    },
    "tags": []
   },
   "source": [
    "* Maximum number of Basketball players in the Forbes list \n",
    "Also they have highest earning"
   ]
  },
  {
   "cell_type": "code",
   "execution_count": 22,
   "id": "25386f39",
   "metadata": {
    "papermill": {
     "duration": 0.054116,
     "end_time": "2021-07-12T04:25:07.560509",
     "exception": false,
     "start_time": "2021-07-12T04:25:07.506393",
     "status": "completed"
    },
    "tags": []
   },
   "outputs": [
    {
     "data": {
      "text/html": [
       "<div>\n",
       "<style scoped>\n",
       "    .dataframe tbody tr th:only-of-type {\n",
       "        vertical-align: middle;\n",
       "    }\n",
       "\n",
       "    .dataframe tbody tr th {\n",
       "        vertical-align: top;\n",
       "    }\n",
       "\n",
       "    .dataframe thead th {\n",
       "        text-align: right;\n",
       "    }\n",
       "</style>\n",
       "<table border=\"1\" class=\"dataframe\">\n",
       "  <thead>\n",
       "    <tr style=\"text-align: right;\">\n",
       "      <th></th>\n",
       "      <th>count</th>\n",
       "      <th>earning</th>\n",
       "      <th>average</th>\n",
       "    </tr>\n",
       "    <tr>\n",
       "      <th>Sport</th>\n",
       "      <th></th>\n",
       "      <th></th>\n",
       "      <th></th>\n",
       "    </tr>\n",
       "  </thead>\n",
       "  <tbody>\n",
       "    <tr>\n",
       "      <th>MMA</th>\n",
       "      <td>1</td>\n",
       "      <td>99.0</td>\n",
       "      <td>99.000000</td>\n",
       "    </tr>\n",
       "    <tr>\n",
       "      <th>Soccer</th>\n",
       "      <td>33</td>\n",
       "      <td>2223.5</td>\n",
       "      <td>67.378788</td>\n",
       "    </tr>\n",
       "    <tr>\n",
       "      <th>Boxing</th>\n",
       "      <td>46</td>\n",
       "      <td>2298.8</td>\n",
       "      <td>49.973913</td>\n",
       "    </tr>\n",
       "    <tr>\n",
       "      <th>F1 racing</th>\n",
       "      <td>13</td>\n",
       "      <td>645.0</td>\n",
       "      <td>49.615385</td>\n",
       "    </tr>\n",
       "    <tr>\n",
       "      <th>Golf</th>\n",
       "      <td>44</td>\n",
       "      <td>2136.5</td>\n",
       "      <td>48.556818</td>\n",
       "    </tr>\n",
       "    <tr>\n",
       "      <th>Tennis</th>\n",
       "      <td>18</td>\n",
       "      <td>848.1</td>\n",
       "      <td>47.116667</td>\n",
       "    </tr>\n",
       "    <tr>\n",
       "      <th>American Football</th>\n",
       "      <td>21</td>\n",
       "      <td>961.2</td>\n",
       "      <td>45.771429</td>\n",
       "    </tr>\n",
       "  </tbody>\n",
       "</table>\n",
       "</div>"
      ],
      "text/plain": [
       "                   count  earning    average\n",
       "Sport                                       \n",
       "MMA                    1     99.0  99.000000\n",
       "Soccer                33   2223.5  67.378788\n",
       "Boxing                46   2298.8  49.973913\n",
       "F1 racing             13    645.0  49.615385\n",
       "Golf                  44   2136.5  48.556818\n",
       "Tennis                18    848.1  47.116667\n",
       "American Football     21    961.2  45.771429"
      ]
     },
     "execution_count": 22,
     "metadata": {},
     "output_type": "execute_result"
    }
   ],
   "source": [
    "df_s.sort_values('average',ascending=False).head(7)"
   ]
  },
  {
   "cell_type": "markdown",
   "id": "4eb65002",
   "metadata": {
    "papermill": {
     "duration": 0.039081,
     "end_time": "2021-07-12T04:25:07.643056",
     "exception": false,
     "start_time": "2021-07-12T04:25:07.603975",
     "status": "completed"
    },
    "tags": []
   },
   "source": [
    "when we look at average\n",
    "* In MMA average has highest but for MMA only 1 datapoint\n",
    "* But in 2 nd number we see Soccer which is 67 average with 33 players\n",
    "\n",
    "Means soccer player has more earning per player than Basketball "
   ]
  },
  {
   "cell_type": "code",
   "execution_count": 23,
   "id": "de1c9ab7",
   "metadata": {
    "papermill": {
     "duration": 0.061553,
     "end_time": "2021-07-12T04:25:07.745193",
     "exception": false,
     "start_time": "2021-07-12T04:25:07.683640",
     "status": "completed"
    },
    "tags": []
   },
   "outputs": [
    {
     "data": {
      "text/html": [
       "<div>\n",
       "<style scoped>\n",
       "    .dataframe tbody tr th:only-of-type {\n",
       "        vertical-align: middle;\n",
       "    }\n",
       "\n",
       "    .dataframe tbody tr th {\n",
       "        vertical-align: top;\n",
       "    }\n",
       "\n",
       "    .dataframe thead th {\n",
       "        text-align: right;\n",
       "    }\n",
       "</style>\n",
       "<table border=\"1\" class=\"dataframe\">\n",
       "  <thead>\n",
       "    <tr style=\"text-align: right;\">\n",
       "      <th></th>\n",
       "      <th>S.NO</th>\n",
       "      <th>Current Rank</th>\n",
       "      <th>Year</th>\n",
       "      <th>earnings ($ million)</th>\n",
       "    </tr>\n",
       "    <tr>\n",
       "      <th>Nationality</th>\n",
       "      <th></th>\n",
       "      <th></th>\n",
       "      <th></th>\n",
       "      <th></th>\n",
       "    </tr>\n",
       "  </thead>\n",
       "  <tbody>\n",
       "    <tr>\n",
       "      <th>USA</th>\n",
       "      <td>28738</td>\n",
       "      <td>1145</td>\n",
       "      <td>412806</td>\n",
       "      <td>8786.3</td>\n",
       "    </tr>\n",
       "    <tr>\n",
       "      <th>Portugal</th>\n",
       "      <td>2499</td>\n",
       "      <td>39</td>\n",
       "      <td>20155</td>\n",
       "      <td>787.1</td>\n",
       "    </tr>\n",
       "    <tr>\n",
       "      <th>Switzerland</th>\n",
       "      <td>2882</td>\n",
       "      <td>59</td>\n",
       "      <td>24173</td>\n",
       "      <td>781.1</td>\n",
       "    </tr>\n",
       "    <tr>\n",
       "      <th>Argentina</th>\n",
       "      <td>2288</td>\n",
       "      <td>39</td>\n",
       "      <td>18143</td>\n",
       "      <td>715.5</td>\n",
       "    </tr>\n",
       "    <tr>\n",
       "      <th>Germany</th>\n",
       "      <td>1510</td>\n",
       "      <td>44</td>\n",
       "      <td>26023</td>\n",
       "      <td>639.0</td>\n",
       "    </tr>\n",
       "    <tr>\n",
       "      <th>UK</th>\n",
       "      <td>2028</td>\n",
       "      <td>88</td>\n",
       "      <td>26073</td>\n",
       "      <td>443.2</td>\n",
       "    </tr>\n",
       "    <tr>\n",
       "      <th>Brazil</th>\n",
       "      <td>1279</td>\n",
       "      <td>44</td>\n",
       "      <td>18038</td>\n",
       "      <td>422.0</td>\n",
       "    </tr>\n",
       "    <tr>\n",
       "      <th>Philippines</th>\n",
       "      <td>631</td>\n",
       "      <td>16</td>\n",
       "      <td>6034</td>\n",
       "      <td>242.0</td>\n",
       "    </tr>\n",
       "    <tr>\n",
       "      <th>Finland</th>\n",
       "      <td>526</td>\n",
       "      <td>11</td>\n",
       "      <td>6024</td>\n",
       "      <td>129.0</td>\n",
       "    </tr>\n",
       "    <tr>\n",
       "      <th>Italy</th>\n",
       "      <td>680</td>\n",
       "      <td>35</td>\n",
       "      <td>8028</td>\n",
       "      <td>128.0</td>\n",
       "    </tr>\n",
       "    <tr>\n",
       "      <th>Canada</th>\n",
       "      <td>453</td>\n",
       "      <td>51</td>\n",
       "      <td>11982</td>\n",
       "      <td>99.1</td>\n",
       "    </tr>\n",
       "    <tr>\n",
       "      <th>Ireland</th>\n",
       "      <td>275</td>\n",
       "      <td>4</td>\n",
       "      <td>2018</td>\n",
       "      <td>99.0</td>\n",
       "    </tr>\n",
       "    <tr>\n",
       "      <th>Mexico</th>\n",
       "      <td>285</td>\n",
       "      <td>4</td>\n",
       "      <td>2019</td>\n",
       "      <td>94.0</td>\n",
       "    </tr>\n",
       "    <tr>\n",
       "      <th>Filipino</th>\n",
       "      <td>213</td>\n",
       "      <td>2</td>\n",
       "      <td>2012</td>\n",
       "      <td>62.0</td>\n",
       "    </tr>\n",
       "    <tr>\n",
       "      <th>Serbia</th>\n",
       "      <td>257</td>\n",
       "      <td>6</td>\n",
       "      <td>2016</td>\n",
       "      <td>55.8</td>\n",
       "    </tr>\n",
       "    <tr>\n",
       "      <th>Northern Ireland</th>\n",
       "      <td>268</td>\n",
       "      <td>6</td>\n",
       "      <td>2017</td>\n",
       "      <td>50.0</td>\n",
       "    </tr>\n",
       "    <tr>\n",
       "      <th>Spain</th>\n",
       "      <td>240</td>\n",
       "      <td>9</td>\n",
       "      <td>2014</td>\n",
       "      <td>44.5</td>\n",
       "    </tr>\n",
       "    <tr>\n",
       "      <th>France</th>\n",
       "      <td>55</td>\n",
       "      <td>15</td>\n",
       "      <td>5974</td>\n",
       "      <td>36.0</td>\n",
       "    </tr>\n",
       "    <tr>\n",
       "      <th>Dominican</th>\n",
       "      <td>209</td>\n",
       "      <td>8</td>\n",
       "      <td>2011</td>\n",
       "      <td>35.0</td>\n",
       "    </tr>\n",
       "    <tr>\n",
       "      <th>Russia</th>\n",
       "      <td>83</td>\n",
       "      <td>3</td>\n",
       "      <td>1998</td>\n",
       "      <td>29.8</td>\n",
       "    </tr>\n",
       "    <tr>\n",
       "      <th>Austria</th>\n",
       "      <td>45</td>\n",
       "      <td>5</td>\n",
       "      <td>1994</td>\n",
       "      <td>13.5</td>\n",
       "    </tr>\n",
       "    <tr>\n",
       "      <th>Australia</th>\n",
       "      <td>7</td>\n",
       "      <td>7</td>\n",
       "      <td>1990</td>\n",
       "      <td>8.5</td>\n",
       "    </tr>\n",
       "  </tbody>\n",
       "</table>\n",
       "</div>"
      ],
      "text/plain": [
       "                   S.NO  Current Rank    Year  earnings ($ million)\n",
       "Nationality                                                        \n",
       "USA               28738          1145  412806                8786.3\n",
       "Portugal           2499            39   20155                 787.1\n",
       "Switzerland        2882            59   24173                 781.1\n",
       "Argentina          2288            39   18143                 715.5\n",
       "Germany            1510            44   26023                 639.0\n",
       "UK                 2028            88   26073                 443.2\n",
       "Brazil             1279            44   18038                 422.0\n",
       "Philippines         631            16    6034                 242.0\n",
       "Finland             526            11    6024                 129.0\n",
       "Italy               680            35    8028                 128.0\n",
       "Canada              453            51   11982                  99.1\n",
       "Ireland             275             4    2018                  99.0\n",
       "Mexico              285             4    2019                  94.0\n",
       "Filipino            213             2    2012                  62.0\n",
       "Serbia              257             6    2016                  55.8\n",
       "Northern Ireland    268             6    2017                  50.0\n",
       "Spain               240             9    2014                  44.5\n",
       "France               55            15    5974                  36.0\n",
       "Dominican           209             8    2011                  35.0\n",
       "Russia               83             3    1998                  29.8\n",
       "Austria              45             5    1994                  13.5\n",
       "Australia             7             7    1990                   8.5"
      ]
     },
     "execution_count": 23,
     "metadata": {},
     "output_type": "execute_result"
    }
   ],
   "source": [
    "df.groupby('Nationality').sum().sort_values('earnings ($ million)', ascending=False)"
   ]
  },
  {
   "cell_type": "markdown",
   "id": "1ad344cc",
   "metadata": {
    "papermill": {
     "duration": 0.039858,
     "end_time": "2021-07-12T04:25:07.825221",
     "exception": false,
     "start_time": "2021-07-12T04:25:07.785363",
     "status": "completed"
    },
    "tags": []
   },
   "source": [
    "* USA dominating in Highest paid athletes"
   ]
  },
  {
   "cell_type": "code",
   "execution_count": 24,
   "id": "e8d7b10a",
   "metadata": {
    "papermill": {
     "duration": 1.288867,
     "end_time": "2021-07-12T04:25:09.154319",
     "exception": false,
     "start_time": "2021-07-12T04:25:07.865452",
     "status": "completed"
    },
    "tags": []
   },
   "outputs": [
    {
     "data": {
      "text/plain": [
       "<AxesSubplot:xlabel='Year', ylabel='earnings ($ million)'>"
      ]
     },
     "execution_count": 24,
     "metadata": {},
     "output_type": "execute_result"
    },
    {
     "data": {
      "image/png": "[encoded data removed]",
      "text/plain": [
       "<Figure size 432x288 with 1 Axes>"
      ]
     },
     "metadata": {},
     "output_type": "display_data"
    }
   ],
   "source": [
    "sns.lineplot(y=df[df.Nationality == 'USA']['earnings ($ million)'], x=df[df.Nationality == 'USA']['Year'], label='USA')\n",
    "sns.lineplot(y=df[df.Nationality == 'Portugal']['earnings ($ million)'], x=df[df.Nationality == 'Portugal']['Year'], label='Portugal')\n",
    "sns.lineplot(y=df[df.Nationality == 'Switzerland']['earnings ($ million)'], x=df[df.Nationality == 'Switzerland']['Year'], label='Switzerland')"
   ]
  },
  {
   "cell_type": "markdown",
   "id": "39f66f92",
   "metadata": {
    "papermill": {
     "duration": 0.041626,
     "end_time": "2021-07-12T04:25:09.238091",
     "exception": false,
     "start_time": "2021-07-12T04:25:09.196465",
     "status": "completed"
    },
    "tags": []
   },
   "source": [
    "* We can say that, Reason of USA domination is because he start participate in early 1990"
   ]
  },
  {
   "cell_type": "code",
   "execution_count": 25,
   "id": "cc9af859",
   "metadata": {
    "papermill": {
     "duration": 0.050659,
     "end_time": "2021-07-12T04:25:09.330910",
     "exception": false,
     "start_time": "2021-07-12T04:25:09.280251",
     "status": "completed"
    },
    "tags": []
   },
   "outputs": [],
   "source": [
    "df_2007 = df[df.Year > 2007]"
   ]
  },
  {
   "cell_type": "code",
   "execution_count": 26,
   "id": "0920780b",
   "metadata": {
    "papermill": {
     "duration": 0.763436,
     "end_time": "2021-07-12T04:25:10.136094",
     "exception": false,
     "start_time": "2021-07-12T04:25:09.372658",
     "status": "completed"
    },
    "tags": []
   },
   "outputs": [
    {
     "data": {
      "text/plain": [
       "<AxesSubplot:xlabel='Year', ylabel='earnings ($ million)'>"
      ]
     },
     "execution_count": 26,
     "metadata": {},
     "output_type": "execute_result"
    },
    {
     "data": {
      "image/png": "[encoded data removed]",
      "text/plain": [
       "<Figure size 432x288 with 1 Axes>"
      ]
     },
     "metadata": {},
     "output_type": "display_data"
    }
   ],
   "source": [
    "sns.lineplot(y=df_2007[df_2007.Nationality == 'USA']['earnings ($ million)'], x=df_2007[df_2007.Nationality == 'USA']['Year'], label='USA')\n",
    "sns.lineplot(y=df_2007[df_2007.Nationality == 'Portugal']['earnings ($ million)'], x=df_2007[df_2007.Nationality == 'Portugal']['Year'], label='Portugal')\n",
    "sns.lineplot(y=df_2007[df_2007.Nationality == 'Switzerland']['earnings ($ million)'], x=df_2007[df_2007.Nationality == 'Switzerland']['Year'], label='Switzerland')"
   ]
  },
  {
   "cell_type": "markdown",
   "id": "d2270c52",
   "metadata": {
    "_kg_hide-input": true,
    "papermill": {
     "duration": 0.04381,
     "end_time": "2021-07-12T04:25:10.224397",
     "exception": false,
     "start_time": "2021-07-12T04:25:10.180587",
     "status": "completed"
    },
    "tags": []
   },
   "source": [
    "* After 2014 other countries give tough competition to USA"
   ]
  }
 ],
 "metadata": {
  "kernelspec": {
   "display_name": "Python 3 (ipykernel)",
   "language": "python",
   "name": "python3"
  },
  "language_info": {
   "codemirror_mode": {
    "name": "ipython",
    "version": 3
   },
   "file_extension": ".py",
   "mimetype": "text/x-python",
   "name": "python",
   "nbconvert_exporter": "python",
   "pygments_lexer": "ipython3",
   "version": "3.9.8"
  },
  "papermill": {
   "default_parameters": {},
   "duration": 16.812887,
   "end_time": "2021-07-12T04:25:11.886444",
   "environment_variables": {},
   "exception": null,
   "input_path": "__notebook__.ipynb",
   "output_path": "__notebook__.ipynb",
   "parameters": {},
   "start_time": "2021-07-12T04:24:55.073557",
   "version": "2.3.3"
  }
 },
 "nbformat": 4,
 "nbformat_minor": 5
}
